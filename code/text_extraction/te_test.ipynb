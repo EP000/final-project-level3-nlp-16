{
 "cells": [
  {
   "cell_type": "code",
   "execution_count": 1,
   "metadata": {},
   "outputs": [],
   "source": [
    "import es_api as es"
   ]
  },
  {
   "cell_type": "code",
   "execution_count": 2,
   "metadata": {},
   "outputs": [
    {
     "name": "stderr",
     "output_type": "stream",
     "text": [
      "100%|██████████| 25803/25803 [19:50<00:00, 21.67it/s]  "
     ]
    },
    {
     "name": "stdout",
     "output_type": "stream",
     "text": [
      "ElasticSearch Data Indexing Finished\n"
     ]
    },
    {
     "name": "stderr",
     "output_type": "stream",
     "text": [
      "\n"
     ]
    }
   ],
   "source": [
    "es.es_indexing(\"/Users/jhyun/Git/final-project-level3-nlp-16/data/es_data/vocab_space_ver2.txt\")"
   ]
  },
  {
   "cell_type": "markdown",
   "metadata": {},
   "source": []
  },
  {
   "cell_type": "code",
   "execution_count": null,
   "metadata": {},
   "outputs": [],
   "source": [
    "from pprint import pprint as pp\n",
    "# doc, 0, term\n",
    "# 각 term -  res['hits']['hits'][0][\"_explanation\"][\"details\"]\n",
    "# term  - res['hits']['hits'][0][\"_explanation\"]['details'][0]['description']\n",
    "# term idf - res['hits']['hits'][0][\"_explanation\"][\"details\"][0]['details'][0]['details'][1]['value'] \n",
    "# term tf - res['hits']['hits'][0][\"_explanation\"][\"details\"][0]['details'][0]['details'][2]['value']\n",
    "res = es.es_search(\"애플워치 se40mm 스페이스 그레이 7회정도 배터리 팝니다\")\n",
    "res_list = res['hits']['hits'][0][\"_explanation\"][\"details\"][0]['details'][0][\"description\"]\n",
    "pp(res_list)\n"
   ]
  },
  {
   "cell_type": "code",
   "execution_count": null,
   "metadata": {},
   "outputs": [],
   "source": [
    "import es_api as es\n",
    "from pprint import pprint as pp\n",
    "\n",
    "query = \"갤럭시 S8 64기가 상태굿 ㅡ중고폰3977 갤럭시s8 64기가 오키드그레이 상태굿 최초 LG개통했으나 모든유심다됩니다 선불.알뜰유심다됩니다 화면에 사진처럼 잔상조금있어 싸게판매합니다 ㅡ사진참조 터치및 모든 기능이상없이 작동잘됩니다 직거래는 인천 1호선 주안역입니다 택배거래도 가능합니다 이0ㅡ29오오ㅡ99이사\"\n",
    "res_list = es.es_search(query)\n",
    "print(res_list)\n"
   ]
  },
  {
   "cell_type": "code",
   "execution_count": null,
   "metadata": {},
   "outputs": [],
   "source": [
    "result = {}\n",
    "er = []\n",
    "for doc in res_list: #res['hits']['hits']\n",
    "    for term in doc[\"_explanation\"][\"details\"]:\n",
    "        try:\n",
    "            word = term[\"description\"]\n",
    "            word = word.split(' ')[0][13:]\n",
    "            if word not in result:\n",
    "                idf_value = term['details'][0]['details'][1]['value'] \n",
    "                result[word] = idf_value\n",
    "        except IndexError as error:\n",
    "            er.append(term)\n"
   ]
  },
  {
   "cell_type": "code",
   "execution_count": null,
   "metadata": {},
   "outputs": [],
   "source": [
    "import re\n",
    "\n",
    "result = {'64기가': 41.3113096, '갤럭시s8': 7.2955413, 'S8': 30.60258, '오키드그레이': 8.16147}\n",
    "query = \"아이폰13pro프로128블루 아이폰13pro프로128g 신품급 천안 아산 군산 대전 전주 익산 서울 직거래 가능 o1o 2436 4619\"\n",
    "\n",
    "for key in result:\n",
    "    print(re.findall(key.lower(), query.lower()))\n",
    "    print(len(re.findall(key.lower(), query.lower())))\n",
    "    print(\"==========\")\n",
    "    result[key] *= len(re.findall(key.lower(), query.lower()))\n"
   ]
  },
  {
   "cell_type": "code",
   "execution_count": 2,
   "metadata": {},
   "outputs": [
    {
     "data": {
      "text/plain": [
       "\"갤럭시 s9 퍼플 64기가*인생폰* 📱품번 : 18번\\n📱기종  : 갤럭시 s9\\n📱최초통신사 : kt\\n📱최초개통일 및 보증기간: 18.5.17\\n📱색상: 퍼플\\n📱용량 : 64G\\n《25% 요금 할인 적용 가능한  단말기 입니다》\\n📱상태 : 지문센서 도색 살짝 벗겨짐 외 상태깨끗\\n잔상없음, 기능이상 없음\\n\\n💟3사 호환 가능합니다. \\n💟정상해지 단말기라서 유심 꼽으면 바로 사용가능해요 💕\\n\\n💟인생폰에서 준비한 구성품💕\\n👉단말기+충전기+일반필름+기본케이스+유심핀+그립톡+알콜스왑\\n\\n❣포토리뷰 이벤트❣\\n구매 후 포토리뷰 남겨주시면 5000원 캐쉬백 또는 스타벅스 커피쿠폰 지급!!!\\n많이 참여 해주세요^\\n\\n👉직거래는 매장에서 직거래 가능합니다.\\n👉택배는 오후 2시 전 입금시 당일 발송 됩니다.\\n참고 해주세요~* 주말 제외\\n\\n☎️전화,문자,카톡 가능해요~\\n👉https://blog.naver.com/isp6263\\n블로그에서 연락처 확인 가능\\n\\n💗중고 거래 특성상, 단순변심 \\n환불은 안됩니다~ 참고 해주세요.\\n구매후 7일 이내 기기 이상 있을시 교환, 환\\n불 해드려요💗\\n\\n❣'인생폰' 매물들은\\n최대한의 실사 그대로를 찍어서\\n보여 드리고 있으며,\\n모든 기본적인 기능 테스트 및 조회를\\n마친 제품입니다\\n\\n❣인생폰 중고폰판매,매입 및 선불폰둘러보기\\nhttps://blog.naver.com/isp6263\""
      ]
     },
     "execution_count": 2,
     "metadata": {},
     "output_type": "execute_result"
    }
   ],
   "source": [
    "import clipboard\n",
    "title = \"갤럭시 s9 퍼플 64기가*인생폰*\"\n",
    "context = clipboard.paste()\n",
    "q = title + \" \" + context\n",
    "q"
   ]
  },
  {
   "cell_type": "code",
   "execution_count": 3,
   "metadata": {},
   "outputs": [
    {
     "name": "stdout",
     "output_type": "stream",
     "text": [
      "non_spell : [('기', 114.08633600000002), ('해', 57.130289999999995), ('시', 48.756150000000005), ('폰', 36.638825999999995), ('전', 24.378075000000003), ('포토', 16.280242), ('번', 14.6283446), ('중', 13.365374), ('유심', 13.353004), ('퍼플', 12.393858), ('갤럭시', 12.211914), ('원', 8.16147), ('쉬', 8.142839), ('센서', 8.142839), ('색상', 8.140121), ('잔상', 8.126025), ('선불', 8.126025), ('전화', 7.6320133), ('스타', 7.0415087), ('충전기', 6.408238)]\n",
      "spell : [('기', 114.08633600000002), ('해', 57.130289999999995), ('시', 48.756150000000005), ('폰', 36.638825999999995), ('전', 24.378075000000003), ('포토', 16.280242), ('번', 14.6283446), ('중', 13.365374), ('유심', 13.353004), ('퍼플', 12.393858), ('갤럭시', 12.211914), ('원', 8.16147), ('쉬', 8.142839), ('센서', 8.142839), ('색상', 8.140121), ('잔상', 8.126025), ('선불', 8.126025), ('전화', 7.6320133), ('스타', 7.0415087), ('충전기', 6.408238)]\n"
     ]
    },
    {
     "data": {
      "text/plain": [
       "([('기', 114.08633600000002),\n",
       "  ('해', 57.130289999999995),\n",
       "  ('시', 48.756150000000005),\n",
       "  ('폰', 36.638825999999995),\n",
       "  ('전', 24.378075000000003),\n",
       "  ('포토', 16.280242),\n",
       "  ('번', 14.6283446),\n",
       "  ('중', 13.365374),\n",
       "  ('유심', 13.353004),\n",
       "  ('퍼플', 12.393858),\n",
       "  ('갤럭시', 12.211914),\n",
       "  ('원', 8.16147),\n",
       "  ('쉬', 8.142839),\n",
       "  ('센서', 8.142839),\n",
       "  ('색상', 8.140121),\n",
       "  ('잔상', 8.126025),\n",
       "  ('선불', 8.126025),\n",
       "  ('전화', 7.6320133),\n",
       "  ('스타', 7.0415087),\n",
       "  ('충전기', 6.408238)],\n",
       " [('기', 114.08633600000002),\n",
       "  ('해', 57.130289999999995),\n",
       "  ('시', 48.756150000000005),\n",
       "  ('폰', 36.638825999999995),\n",
       "  ('전', 24.378075000000003),\n",
       "  ('포토', 16.280242),\n",
       "  ('번', 14.6283446),\n",
       "  ('중', 13.365374),\n",
       "  ('유심', 13.353004),\n",
       "  ('퍼플', 12.393858),\n",
       "  ('갤럭시', 12.211914),\n",
       "  ('원', 8.16147),\n",
       "  ('쉬', 8.142839),\n",
       "  ('센서', 8.142839),\n",
       "  ('색상', 8.140121),\n",
       "  ('잔상', 8.126025),\n",
       "  ('선불', 8.126025),\n",
       "  ('전화', 7.6320133),\n",
       "  ('스타', 7.0415087),\n",
       "  ('충전기', 6.408238)])"
      ]
     },
     "execution_count": 3,
     "metadata": {},
     "output_type": "execute_result"
    }
   ],
   "source": [
    "import text_extraction as te\n",
    "\n",
    "te.extract_text(q)\n"
   ]
  },
  {
   "cell_type": "code",
   "execution_count": 28,
   "metadata": {},
   "outputs": [
    {
     "name": "stdout",
     "output_type": "stream",
     "text": [
      "<class 'bool'>\n"
     ]
    }
   ],
   "source": [
    "from hanspell import spell_checker\n",
    "\n",
    "print(type(spell_checker.check(\"단말기충전기일반필름기본케이스유심핀그립톡알콜스왑\")[0]))\n"
   ]
  },
  {
   "cell_type": "code",
   "execution_count": 4,
   "metadata": {},
   "outputs": [
    {
     "data": {
      "text/plain": [
       "'갤럭시 s9 퍼플 64기가인생폰 품번  18번 기종   갤럭시 s9 최초통신사  kt 최초개통일 및 보증기간 18517 색상 퍼플 용량  64G 25 요금 할인 적용 가능한  단말기 입니다 상태  지문센서 도색 살짝 벗겨짐 외 상태깨끗 잔상없음 기능이상 없음  3사 호환 가능합니다  정상해지 단말기라서 유심 꼽으면 바로 사용가능해요   인생폰에서 준비한 구성품 단말기충전기일반필름기본케이스유심핀그립톡알콜스왑  포토리뷰 이벤트 구매 후 포토리뷰 남겨주시면 5000원 캐쉬백 또는 스타벅스 커피쿠폰 지급 많이 참여 해주세요  직거래는 매장에서 직거래 가능합니다 택배는 오후 2시 전 입금시 당일 발송 됩니다 참고 해주세요 주말 제외  전화문자카톡 가능해요 httpsblognavercomisp6263 블로그에서 연락처 확인 가능  중고 거래 특성상 단순변심  환불은 안됩니다 참고 해주세요 구매후 7일 이내 기기 이상 있을시 교환 환 불 해드려요  인생폰 매물들은 최대한의 실사 그대로를 찍어서 보여 드리고 있으며 모든 기본적인 기능 테스트 및 조회를 마친 제품입니다  인생폰 중고폰판매매입 및 선불폰둘러보기 httpsblognavercomisp6263'"
      ]
     },
     "execution_count": 4,
     "metadata": {},
     "output_type": "execute_result"
    }
   ],
   "source": [
    "import re\n",
    "query = q\n",
    "query = re.sub(r\"[^\\w\\s]\", \"\", query)\n",
    "query = query.replace(\"\\n\", \" \")\n",
    "query = query.replace(\"\\r\", \" \")\n",
    "query"
   ]
  },
  {
   "cell_type": "code",
   "execution_count": 9,
   "metadata": {},
   "outputs": [
    {
     "data": {
      "text/plain": [
       "'갤럭시노트10아우라블랙 256GB 갤럭시노트10블랙팝니다 아버지가 쓰시던 폰 인데 액정파손으로 다른폰 바꾸게되셔서 팝니다. 정상해지 했구요 터치문제 없고 잔상없고 가운데 멍있음 뒤에 카메라렌즈 가운데도 금갔는데 사진찍을때 문제 없는거 확인했습니다.구성품은 박스+usb젠더+노트펜 교체집게 있습니다. 솔직히 이 폰 얼마에 팔아야할지 몰라서 가격높게 부르는분께 팔겠습니다(터무니 없는 가격제시는 사양할게요). 직거래 울산 양정동,염포동 가능하구요 택배거래도 가능합니다.편하게 번톡주세요'"
      ]
     },
     "execution_count": 9,
     "metadata": {},
     "output_type": "execute_result"
    }
   ],
   "source": [
    "import clipboard\n",
    "title = \"갤럭시노트10아우라블랙 256GB 갤럭시노트10블랙팝니다\"\n",
    "context = clipboard.paste()\n",
    "q = title + \" \" + context\n",
    "q"
   ]
  },
  {
   "cell_type": "code",
   "execution_count": 1,
   "metadata": {},
   "outputs": [
    {
     "name": "stdout",
     "output_type": "stream",
     "text": [
      "non_spell : [('노트', 29.25846), ('가운데', 16.572966), ('갤럭시', 12.963968), ('제시', 9.75282), ('잔상', 9.75282), ('아우라', 8.905521), ('렌즈', 8.018219), ('블랙', 7.787869), ('터치', 7.354924), ('액정', 6.6467395), ('카메라', 3.2692027)]\n",
      "spell : [('노트', 29.25846), ('가운데', 16.572966), ('갤럭시', 12.963968), ('잔상', 9.75282), ('아우라', 8.905521), ('렌즈', 8.018219), ('블랙', 7.787869), ('터치', 7.354924), ('액정', 6.6467395), ('카메라', 3.2692027)]\n"
     ]
    },
    {
     "data": {
      "text/plain": [
       "0"
      ]
     },
     "execution_count": 1,
     "metadata": {},
     "output_type": "execute_result"
    }
   ],
   "source": [
    "q = '갤럭시노트10아우라블랙 256GB 갤럭시노트10블랙팝니다 아버지가 쓰시던 폰 인데 액정파손으로 다른폰 바꾸게되셔서 팝니다. 정상해지 했구요 터치문제 없고 잔상없고 가운데 멍있음 뒤에 카메라렌즈 가운데도 금갔는데 사진찍을때 문제 없는거 확인했습니다.구성품은 박스+usb젠더+노트펜 교체집게 있습니다. 솔직히 이 폰 얼마에 팔아야할지 몰라서 가격높게 부르는분께 팔겠습니다(터무니 없는 가격제시는 사양할게요). 직거래 울산 양정동,염포동 가능하구요 택배거래도 가능합니다.편하게 번톡주세요'\n",
    "# nori_tokenizer\n",
    "# 오토태그\n",
    "import text_extraction as te\n",
    "te.extract_text(q)"
   ]
  },
  {
   "cell_type": "code",
   "execution_count": 1,
   "metadata": {},
   "outputs": [
    {
     "name": "stdout",
     "output_type": "stream",
     "text": [
      "non_spell : [('가운데', 9.103632053639386), ('카메라렌즈', 6.760139685508645), ('갤럭시노트10', 6.548919037570562), ('256gb', 2.8058091871624775)]\n",
      "spell : [('노트', 13.52027937101729), ('갤럭시노트', 10.714567901168115), ('가운데', 9.103632053639386), ('잔상', 6.760139685508645), ('아우라', 6.1728367725673845), ('렌즈', 5.557805892962184), ('터치', 5.098044833832675), ('액정', 4.60716874434142), ('블랙', 4.277924292968711), ('usb', 3.079585687951323), ('256gb', 2.8058091871624775), ('카메라', 2.266038634183961)]\n"
     ]
    },
    {
     "data": {
      "text/plain": [
       "0"
      ]
     },
     "execution_count": 1,
     "metadata": {},
     "output_type": "execute_result"
    }
   ],
   "source": [
    "q = '갤럭시노트10 아우라블랙 256GB 갤럭시노트10블랙팝니다 아버지가 쓰시던 폰 인데 액정파손으로 다른폰 바꾸게되셔서 팝니다. 정상해지 했구요 터치문제 없고 잔상없고 가운데 멍있음 뒤에 카메라렌즈 가운데도 금갔는데 사진찍을때 문제 없는거 확인했습니다.구성품은 박스+usb젠더+노트펜 교체집게 있습니다. 솔직히 이 폰 얼마에 팔아야할지 몰라서 가격높게 부르는분께 팔겠습니다(터무니 없는 가격제시는 사양할게요). 직거래 울산 양정동,염포동 가능하구요 택배거래도 가능합니다.편하게 번톡주세요'\n",
    "# whitespace_tokenizer\n",
    "# 오토태그2 - 로그 씌움\n",
    "import text_extraction as te\n",
    "te.extract_text(q)"
   ]
  },
  {
   "cell_type": "code",
   "execution_count": 1,
   "metadata": {},
   "outputs": [
    {
     "name": "stdout",
     "output_type": "stream",
     "text": [
      "non_spell : [('가운데', 16.572966), ('갤럭시노트10', 11.922166), ('카메라렌즈', 9.75282), ('256gb', 4.047927)]\n",
      "spell : [('노트', 29.25846), ('갤럭시노트', 19.50564), ('가운데', 16.572966), ('잔상', 9.75282), ('아우라', 8.905521), ('렌즈', 8.018219), ('블랙', 7.787869), ('터치', 7.354924), ('액정', 6.6467395), ('usb', 4.442903), ('256gb', 4.047927), ('카메라', 3.2692027)]\n"
     ]
    },
    {
     "data": {
      "text/plain": [
       "0"
      ]
     },
     "execution_count": 1,
     "metadata": {},
     "output_type": "execute_result"
    }
   ],
   "source": [
    "q = '갤럭시노트10 아우라블랙 256GB 갤럭시노트10블랙팝니다 아버지가 쓰시던 폰 인데 액정파손으로 다른폰 바꾸게되셔서 팝니다. 정상해지 했구요 터치문제 없고 잔상없고 가운데 멍있음 뒤에 카메라렌즈 가운데도 금갔는데 사진찍을때 문제 없는거 확인했습니다.구성품은 박스+usb젠더+노트펜 교체집게 있습니다. 솔직히 이 폰 얼마에 팔아야할지 몰라서 가격높게 부르는분께 팔겠습니다(터무니 없는 가격제시는 사양할게요). 직거래 울산 양정동,염포동 가능하구요 택배거래도 가능합니다.편하게 번톡주세요'\n",
    "# whitespace_tokenizer\n",
    "# 오토태그2 - 로그 없음\n",
    "import text_extraction as te\n",
    "te.extract_text(q)"
   ]
  },
  {
   "cell_type": "code",
   "execution_count": 1,
   "metadata": {},
   "outputs": [
    {
     "data": {
      "text/plain": [
       "['노트', '갤럭시노트', '가운데']"
      ]
     },
     "execution_count": 1,
     "metadata": {},
     "output_type": "execute_result"
    }
   ],
   "source": [
    "q = '갤럭시노트10 아우라블랙 256GB 갤럭시노트10블랙팝니다 아버지가 쓰시던 폰 인데 액정파손으로 다른폰 바꾸게되셔서 팝니다. 정상해지 했구요 터치문제 없고 잔상없고 가운데 멍있음 뒤에 카메라렌즈 가운데도 금갔는데 사진찍을때 문제 없는거 확인했습니다.구성품은 박스+usb젠더+노트펜 교체집게 있습니다. 솔직히 이 폰 얼마에 팔아야할지 몰라서 가격높게 부르는분께 팔겠습니다(터무니 없는 가격제시는 사양할게요). 직거래 울산 양정동,염포동 가능하구요 택배거래도 가능합니다.편하게 번톡주세요'\n",
    "# whitespace_tokenizer\n",
    "# 오토태그2 - 로그 없음\n",
    "import text_extraction as te\n",
    "te.extract_text(q)"
   ]
  },
  {
   "cell_type": "code",
   "execution_count": 2,
   "metadata": {},
   "outputs": [
    {
     "name": "stdout",
     "output_type": "stream",
     "text": [
      "non_spell : [('가운데', 16.572966), ('카메라렌즈', 9.75282), ('256gb', 4.047927)]\n",
      "spell : [('노트', 29.25846), ('갤럭시노트', 19.50564), ('가운데', 16.572966), ('잔상', 9.75282), ('렌즈', 8.018219), ('블랙', 7.787869), ('터치', 7.354924), ('액정', 6.6467395), ('usb', 4.442903), ('256gb', 4.047927), ('카메라', 3.2692027)]\n"
     ]
    },
    {
     "data": {
      "text/plain": [
       "([('가운데', 16.572966), ('카메라렌즈', 9.75282), ('256gb', 4.047927)],\n",
       " [('노트', 29.25846),\n",
       "  ('갤럭시노트', 19.50564),\n",
       "  ('가운데', 16.572966),\n",
       "  ('잔상', 9.75282),\n",
       "  ('렌즈', 8.018219),\n",
       "  ('블랙', 7.787869),\n",
       "  ('터치', 7.354924),\n",
       "  ('액정', 6.6467395),\n",
       "  ('usb', 4.442903),\n",
       "  ('256gb', 4.047927),\n",
       "  ('카메라', 3.2692027)])"
      ]
     },
     "execution_count": 2,
     "metadata": {},
     "output_type": "execute_result"
    }
   ],
   "source": []
  },
  {
   "cell_type": "code",
   "execution_count": 2,
   "metadata": {},
   "outputs": [
    {
     "name": "stdout",
     "output_type": "stream",
     "text": [
      "노트\n",
      "갤럭시노트\n",
      "가운데\n"
     ]
    }
   ],
   "source": [
    "l = [('노트', 29.25846), ('갤럭시노트', 19.50564), ('가운데', 16.572966), ('가운데', 16.572966) ]\n",
    "\n",
    "for key, value in l[:3]:\n",
    "    print(key)"
   ]
  },
  {
   "cell_type": "code",
   "execution_count": null,
   "metadata": {},
   "outputs": [],
   "source": []
  }
 ],
 "metadata": {
  "interpreter": {
   "hash": "d4d1e4263499bec80672ea0156c357c1ee493ec2b1c70f0acce89fc37c4a6abe"
  },
  "kernelspec": {
   "display_name": "Python 3.8.5 64-bit ('base': conda)",
   "language": "python",
   "name": "python3"
  },
  "language_info": {
   "codemirror_mode": {
    "name": "ipython",
    "version": 3
   },
   "file_extension": ".py",
   "mimetype": "text/x-python",
   "name": "python",
   "nbconvert_exporter": "python",
   "pygments_lexer": "ipython3",
   "version": "3.9.6"
  },
  "orig_nbformat": 4
 },
 "nbformat": 4,
 "nbformat_minor": 2
}
