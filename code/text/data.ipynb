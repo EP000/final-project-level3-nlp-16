{
 "cells": [
  {
   "cell_type": "code",
   "execution_count": 1,
   "metadata": {},
   "outputs": [
    {
     "name": "stderr",
     "output_type": "stream",
     "text": [
      "None of PyTorch, TensorFlow >= 2.0, or Flax have been found. Models won't be available and only tokenizers, configuration and file/data utilities can be used.\n"
     ]
    }
   ],
   "source": [
    "import pandas as pd\n",
    "import os\n",
    "import random\n",
    "from pprint import pprint\n",
    "from sklearn.feature_extraction.text import HashingVectorizer\n",
    "from sklearn.metrics.pairwise import linear_kernel\n",
    "\n",
    "from sklearn.feature_extraction.text import TfidfVectorizer\n",
    "from sklearn.metrics.pairwise import cosine_similarity\n",
    "\n",
    "from numpy import dot \n",
    "from numpy.linalg import norm\n",
    "\n",
    "from transformers import AutoTokenizer"
   ]
  },
  {
   "cell_type": "code",
   "execution_count": 2,
   "metadata": {},
   "outputs": [
    {
     "name": "stdout",
     "output_type": "stream",
     "text": [
      "['600100001_data.csv', '600700004_data.csv', '600700005_data.csv', '600400004_data.csv', '600500010_data.csv', '600400002_data.csv', '600100007_data.csv', '600100006_data.csv', '600700002_data.csv', '600500006_data.csv', '600300003_data.csv', '600100005_data.csv', '600700001_data.csv', '600300001_data.csv', '600400001_data.csv'] 600400002_data.csv\n"
     ]
    }
   ],
   "source": [
    "file_list = os.listdir(\"/Users/jhyun/Git/final-project-level3-nlp-16-1/data/raw_csv_data\")\n",
    "print(file_list, file_list[5])"
   ]
  },
  {
   "cell_type": "code",
   "execution_count": 3,
   "metadata": {},
   "outputs": [
    {
     "name": "stdout",
     "output_type": "stream",
     "text": [
      "600500006_data.csv\n",
      "Index(['Unnamed: 0', 'title', 'tag', 'location', 'description', 'img',\n",
      "       'image_count', 'pid', 'url'],\n",
      "      dtype='object')\n"
     ]
    }
   ],
   "source": [
    "file = file_list[9]\n",
    "print(file)\n",
    "\n",
    "data = pd.read_csv(\"/Users/jhyun/Git/final-project-level3-nlp-16-1/data/raw_csv_data/600100001_data.csv\")\n",
    "print(data.columns)"
   ]
  },
  {
   "cell_type": "code",
   "execution_count": 4,
   "metadata": {},
   "outputs": [],
   "source": [
    "MODEL_NAME = 'klue/bert-base'\n",
    "tokenizer = AutoTokenizer.from_pretrained(MODEL_NAME)"
   ]
  },
  {
   "cell_type": "code",
   "execution_count": 5,
   "metadata": {},
   "outputs": [],
   "source": [
    "def cos_sim(a, b): \n",
    "    return dot(a, b)/(norm(a)*norm(b))\n",
    "\n",
    "\n",
    "def make_matrix(feats, list_data):\n",
    "    freq_list = []\n",
    "    for feat in feats:\n",
    "        freq = 0 \n",
    "        for word in list_data: \n",
    "            if feat == word: \n",
    "                freq += 1 \n",
    "        freq_list.append(freq) \n",
    "    return freq_list"
   ]
  },
  {
   "cell_type": "code",
   "execution_count": 6,
   "metadata": {},
   "outputs": [
    {
     "name": "stdout",
     "output_type": "stream",
     "text": [
      "title :  2022수능 수험생 이벤트 노트북  LG그램16 직거래\n",
      "hashtag :  노트북,중고노트북,게임노트북,그램,수험생할인\n",
      "\n",
      "2022 수능 수험생 여러분 고생하셨습니다 \t 0.6201736729460423\n",
      "2022년  수능 수험 표  인증하시면 \t 0.5547001962252291\n",
      "그램16 구입하시는 수험생에겐   \t 0.6201736729460423\n",
      "▶ SSD  256GB 무료추가 \t 0.39223227027636803\n",
      "▶ 5만원 할인 \t 0.39223227027636803\n",
      "둘중 1가지 선택 해서 적용해 드립니다 \t 0.39223227027636803\n",
      "◆ 적용제품(제품 세부 사양은 판매상품 참조) \t 0.39223227027636803\n",
      "     ▶ 16Z90P-GP50ML  \t 0.39223227027636803\n",
      "          (i5  8GB  256GB) \t 0.39223227027636803\n",
      "     ▶ 16Z90P-GP5EL    \t 0.39223227027636803\n",
      "          (i5 16GB  256GB) \t 0.39223227027636803\n",
      "     ▶ 16Z90P-GP70ML \t 0.39223227027636803\n",
      "          (i7 16GB  256GB) \t 0.39223227027636803\n",
      "전제품 윈도우10정품 내장, 무상서비스1년 \t 0.39223227027636803\n",
      "\n",
      "=============================\n",
      "\n",
      "title :  에일리언웨어 51m 최상옵 9900K+2080 A급 직거래\n",
      "hashtag :  에일리언웨어,노트북,게이밍노트북,하이엔드노트북,델\n",
      "\n",
      "데탑으로 바꿀까하여 사용하던 외계인 내놓습니다. \t 0.3333333333333333\n",
      "상품명 : dell alienware 51m 델 에일리언웨어 51m \t 0.629940788348712\n",
      "CPU : i7-9700k 데탑용 CPU \t 0.3333333333333333\n",
      "GPU : RTX 2080 데탑급 풀사이즈 GPU \t 0.5270462766947299\n",
      "RAM : 32GB \t 0.3333333333333333\n",
      "Display : FHD(1920*1080) 17.3inch 디스플레이 144hz G-sync \t 0.4082482904638631\n",
      "저장장치 : SSD 1.5TB = SAMSUNG SSD 1TB + 도시바 512GB \t 0.47140452079103173\n",
      "윈도우 정품딸린 제품이라 소프트웨어적으로 정품인증 처리 됩니다. \t 0.3333333333333333\n",
      "보증기간 끝났습니다. \t 0.3333333333333333\n",
      "한국에 정발안한 해외 직구판이라 이쁘고 유니크한 루나화이트색상입니다. \t 0.3333333333333333\n",
      "디자인적으로도 성능적으로도 매력 톡톡제품입니다 ㅎㅎ  \t 0.3333333333333333\n",
      "스탠드로 사용하여 밖에 나간적이 없어서 외관상태 A급이라고 자부할만큼 상태 좋습니다. \t 0.47140452079103173\n",
      "양품을 뽑아서 제 성능 잘내고 발열제어 끝내줍니다. 게임도 가벼운것 위주로 하는데 가끔 테스트하고 싶어서 한 두번 하는거외에 일상적으로 게임을 안해서 혹사 시킨적 없습니다. \t 0.3333333333333333\n",
      "파이어스트라이크(파스) 한번인가 돌려봤는데 2만2천~2만3천(오버쿨럭에 따라 다름)정도 나왔던것 같습니다. 해당 제품에서 더이상 따로 업글할 필요없을정도로 풀옵션입니다. \t 0.3333333333333333\n",
      "박스는 버려서 없어서 노트북 + 충전기 드립니다. \t 0.4082482904638631\n",
      "아실만한분들은 알 제품일거라고 생각합니다 들고다니는 데탑이라는 말이 나올만큼 성능면에선 끝내줍니다. 시중에 나온 게임 풀옵션 안돌아가는게 거의 없습니다. 알맞은 주인 잘찾아가길 바랍니다. 안팔리면 어차피 그냥 쓸 예정이라 한번 내놔봅니다. 연락주세요. \t 0.3333333333333333\n",
      "\n",
      "=============================\n",
      "\n",
      "title :  삼성노트북 NT550XCJ-KC34W 직거래\n",
      "hashtag :  삼성노트북,nt550xcj,i3노트북,흰색노트북,삼성\n",
      "\n",
      "박스는 없구요 사진에 있는 구성품 전부드려요. 사서 두세번뿐이 안썼어요 상태는 최고입니다 \t 0.3333333333333333\n",
      "\n",
      "=============================\n",
      "\n",
      "title :  노트북 파우치 15인치 직거래\n",
      "hashtag :  노트북파우치,노트북파우치15,15인치\n",
      "\n",
      "두 번 사용해서 새거나 다름없어요 되게 탄탄해요! \t 0.36514837167011066\n",
      "일반택배 착불 반값택배 +2000 \t 0.36514837167011066\n",
      "\n",
      "=============================\n",
      "\n",
      "title :  HP DV6 롤 메이플 포토샵 노트북 ssd120 램8 라데온 외장 직거래\n",
      "hashtag :  번개페이노트북,택배당일발송\n",
      "\n",
      " \t 0.29488391230979427\n",
      " \t 0.29488391230979427\n",
      " \t 0.29488391230979427\n",
      " \t 0.29488391230979427\n",
      " \t 0.3611575592573077\n",
      " \t 0.29488391230979427\n",
      " \t 0.29488391230979427\n",
      " \t 0.29488391230979427\n",
      " \t 0.3611575592573077\n",
      " \t 0.29488391230979427\n",
      " \t 0.29488391230979427\n",
      "🚶🙆‍🔴🧑🤤🔊👩‍😪🕚🔵⏪🦧😯↙🔜👩‍🦳🤟🦾💀⏪😰🖱🐔⚫💟😟👼💓🕟🖖 \t 0.29488391230979427\n",
      "\n",
      "=============================\n",
      "\n",
      "title :  노트북 맥북에어 맥북프로m1 전기종 매입합니다 직거래\n",
      "hashtag :  맥북,아이폰,노트북,맥북에어,맥북프로\n",
      "\n",
      "애플 맥북 모든기종 매입합니다 문의주세요! \t 0.8189230248533256\n",
      "\n",
      "=============================\n",
      "\n",
      "title :  LG 울트라 노트북  직거래\n",
      "hashtag :  노트북,충전기,가방,마우스,s급\n",
      "\n",
      "롤 돌아갈땐 돌아가는데 사무용 노트북입니다 사무용 노트북인만큼 인터넷은 아주 잘되구여 ssd 223기가 입니다 노트북 가방 마우스 충전기까지 몽땅 드리구요 5개월전에 삿는데 2번쓰고 쓰질않아서 팔게되었습니다 이런가격 어디서 못볼겁니다 에눌은 불가는할거같아요.. \t 0.6154574548966638\n",
      "\n",
      "=============================\n",
      "\n",
      "title :  [롤/피파/오버워치] HP 게이밍 17인치 노트북 (사양필독) 팔아보아요 직거래\n",
      "hashtag :  hp노트북,중고노트북,게이밍노트북,롤피파서든오버워치,17인치\n",
      "\n",
      "📲 0️⃣1️⃣0️⃣-2552-4577 \t 0.22086305214969307\n",
      "24시간 친절히 상담해 !  \t 0.22086305214969307\n",
      "더많은 상품 한번에 보기 ⬇️ \t 0.22086305214969307\n",
      "      ( https://blog.naver.com/kingbuum)  \t 0.5327417265696215\n",
      "🏥 AS 무상 3개월 보증합니다 . \t 0.22086305214969307\n",
      "그이후 평생 유상수리 (부품비용만 받아요🥰) \t 0.31234752377721214\n",
      "(중고제품이라도 걱정 없이 구입하시면서 \t 0.27050089040022973\n",
      "         신품의 30~40% 가격으로 구입가능🤩)  \t 0.27050089040022973\n",
      "💖 고객의 부주의, 과실로 인한 AS  \t 0.22086305214969307\n",
      "                  부품비용만으로 수리해 드려요😜  \t 0.22086305214969307\n",
      "👍노트북 Core 서멀구리스작업 (냉각효과 탁월) \t 0.31234752377721214\n",
      "     내,외관  먼지제거및 항균,살균 처리후 발송 👌  \t 0.22086305214969307\n",
      "💝제품특징💝  \t 0.22086305214969307\n",
      "상품 외관 A급 \t 0.22086305214969307\n",
      "리빌딩 노트북 \t 0.27050089040022973\n",
      "HP 게이밍 노트북 17인치 \t 0.5926377579897538\n",
      "※ 롤/ 오버워치 / 피파 / 로아 급 게임 가능 !!! \t 0.7083376033211464\n",
      "포토샵 & 일러스트용 사용 \"good\" \t 0.22086305214969307\n",
      "업무용, 인강 , 동영상 시청에도 당근 좋습니다 \t 0.22086305214969307\n",
      "초초초강추!!!  \t 0.22086305214969307\n",
      "💻사양  \t 0.22086305214969307\n",
      "상품 외관 A급 \t 0.22086305214969307\n",
      "CPU : Intel (R) Core i7-4702M 2.20GHz  \t 0.31234752377721214\n",
      "램 : 16GB  ( 업글 가능 )  \t 0.31234752377721214\n",
      "SSD : 512GB  \t 0.22086305214969307\n",
      "( HARD -> SSD  3배 빠른 부팅 인터넷 속도 구현)  \t 0.31234752377721214\n",
      "그래픽 : HD GRAPHICS 4600 \t 0.22086305214969307\n",
      "외장그래픽 : AMD RADEON HD 8600/8700M  \t 0.4685212856658182\n",
      "모니터 : 17인치  \t 0.5100613704506707\n",
      "배터리 : 싱싱함 (80%정도)  \t 0.31234752377721214\n",
      "운영체제 : 윈도우 10   \t 0.22086305214969307\n",
      "               한글오피스,엑셀, 워드, 파워포인트 설치됨  \t 0.22086305214969307\n",
      "🎁 구성품  \t 0.22086305214969307\n",
      "1. 노트북 가방 2. 마우스 \t 0.27050089040022973\n",
      "3. 마우스패드 4. 충전기  \t 0.22086305214969307\n",
      "🤝 거래방법  \t 0.22086305214969307\n",
      "📦 택배거래 \t 0.22086305214969307\n",
      "우체국택배로 발송되며 당일 오후 3시전 주문시 \t 0.22086305214969307\n",
      "당일 제품 발송 \t 0.22086305214969307\n",
      "꼼꼼한 포장으로 안심배송  \t 0.22086305214969307\n",
      "🛵퀵거래 \t 0.22086305214969307\n",
      "부산및 부산외각 당일 퀵거래가능  \t 0.22086305214969307\n",
      "🙋‍♂️직거래 \t 0.22086305214969307\n",
      "부산시 서구 남부민동 해돋이로 79-1 \t 0.22086305214969307\n",
      "1층 매장  단디노트북에서 \t 0.22086305214969307\n",
      "( 제품 직접 확인후 구매가능 )  \t 0.31234752377721214\n",
      "🚚 학원,병원,기타업체,기업,수출업 \t 0.22086305214969307\n",
      "      대량 구매가능 ( 1~1000대,그이상도 가능👌 ) \t 0.31234752377721214\n",
      "      중고, 신품 / 노트북 & PC데스크탑  \t 0.4889012070387047\n",
      "      제작및 판매, 매입, 업그레이드 작업, \t 0.22086305214969307\n",
      "      메인트랜서 서비스 등등  \t 0.22086305214969307\n",
      "단디노트북 (중고노트북  부산/경남 총판) \t 0.5100613704506707\n",
      "📲 0️⃣1️⃣0️⃣-2552-4577 \t 0.22086305214969307\n",
      "성실히 상담해 드리겠습니다  \t 0.22086305214969307\n",
      "더많은 상품 한번에 보기 ⬇️ \t 0.22086305214969307\n",
      "      ( https://blog.naver.com/kingbuum)  \t 0.5327417265696215\n",
      "\n",
      "=============================\n",
      "\n",
      "title :  NT350XCR-AD5WA 삼성노트북 플러스2 직거래\n",
      "hashtag :  삼성노트북플러스2,노트북,삼성노트북,256GB,16GB\n",
      "\n",
      "윈10 포함 \t 0.3086066999241838\n",
      "성능 괜찮음 \t 0.3086066999241838\n",
      "구매한지 얼마 안됨 \t 0.3086066999241838\n",
      "무선 키보드 마우스 증정 \t 0.3086066999241838\n",
      "\n",
      "=============================\n",
      "\n",
      "title :  15인치 그램 15ZD90P-GX56K SSD256추가 사은품포함 미개봉 직거래\n",
      "hashtag :  15인치,그램,15Z,GX56K,512GB\n",
      "\n",
      " \t 0.5797509043642028\n",
      " \t 0.22360679774997896\n",
      " \t 0.22360679774997896\n",
      " \t 0.5393598899705936\n",
      " \t 0.22360679774997896\n",
      " \t 0.2383656473113981\n",
      "거래문의 : ***-****-**** \t 0.25819888974716115\n",
      "\n",
      "=============================\n",
      "\n",
      "title :  15.6인치 삼성 갤럭시북 프로 NT950XDX-G51AB 노트북 팝니다 직거래\n",
      "hashtag :  중고노트북,노트북중고,추천노트북,노트북추천,삼성노트북\n",
      "\n",
      "제품사양 \t 0.24618298195866545\n",
      "i5-1135G7 / 16GB / M.2 256GB / MX450 \t 0.5773502691896257\n",
      "운영체제 \t 0.24618298195866545\n",
      "윈도우10 Pro \t 0.24618298195866545\n",
      "설치 프로그램 \t 0.24618298195866545\n",
      "한글 및 오피스 \t 0.24618298195866545\n",
      "구성품 \t 0.24618298195866545\n",
      "풀박스 \t 0.24618298195866545\n",
      "제조년월 \t 0.24618298195866545\n",
      "2021년4월 \t 0.24618298195866545\n",
      "보증기간 (1년) \t 0.24618298195866545\n",
      "2022년4월까지 \t 0.24618298195866545\n",
      "외관상태 \t 0.24618298195866545\n",
      "무기스에 가깝고 상판 오른쪽 하단에 도색 아주 약간 벗겨짐 하나 있습니다. (사진표시 해놨습니다.) \t 0.3302891295379082\n",
      "구매당시 가격 \t 0.24618298195866545\n",
      "5월달쯤 150정도 주고 구매했네요. \t 0.30151134457776363\n",
      "직거래 : 광주광역시 \t 0.30151134457776363\n",
      "택배거래 : 로젠택배 (착불) \t 0.24618298195866545\n",
      "*번개페이 하지않으니, 직접오실분 아니면, 믿고 하실분 말고는 연락주지 마세요.* \t 0.30151134457776363\n",
      "파손면책 동의시 택배 붙여드립니다. 환불 안됩니다. \t 0.3289758474798845\n",
      "\n",
      "=============================\n",
      "\n",
      "title :  삼성 갤럭시북 이온 NT951XCJ-K02/C 16GB 512GB업글 직거래\n",
      "hashtag :  삼성노트북,갤럭시북,이온,15인치,512gb\n",
      "\n",
      " \t 0.732098066191115\n",
      " \t 0.20628424925175867\n",
      " \t 0.20628424925175867\n",
      " \t 0.20628424925175867\n",
      " \t 0.4837794468468967\n",
      " \t 0.20628424925175867\n",
      " \t 0.20628424925175867\n",
      " \t 0.20628424925175867\n",
      " \t 0.20628424925175867\n",
      " \t 0.20628424925175867\n",
      " \t 0.2526455763199557\n",
      " \t 0.20628424925175867\n",
      " \t 0.2526455763199557\n",
      "말도않되는 가격제시 무시하겠습니다 \t 0.20628424925175867\n",
      "\n",
      "=============================\n",
      "\n"
     ]
    }
   ],
   "source": [
    "index = [0, 100, 150, 200, 250, 300, 350, 400, 450, 500, 550, 600]\n",
    "\n",
    "for i in index:\n",
    "    row = data.iloc[i]\n",
    "    title_text = row['title'] + \" 직거래\"\n",
    "    context_text = [d for d in row['description'].split('\\n') if len(d) > 2]\n",
    "    \n",
    "    print('title : ', title_text) \n",
    "    print('hashtag : ', row['tag'])\n",
    "    print()\n",
    "    \n",
    "    title = tokenizer.convert_ids_to_tokens(tokenizer(title_text)['input_ids'])#[1:-1]\n",
    "    for origin_text in context_text:\n",
    "        context = tokenizer.convert_ids_to_tokens(tokenizer(origin_text)['input_ids'])#[1:-1]\n",
    "        \n",
    "        title_vector = make_matrix(title, title)\n",
    "        sim = make_matrix(title, context) \n",
    "        print(origin_text, '\\t', cos_sim(title_vector, sim))\n",
    "        \n",
    "    print()\n",
    "    print('=============================')\n",
    "    print()\n",
    "    "
   ]
  },
  {
   "cell_type": "code",
   "execution_count": 7,
   "metadata": {},
   "outputs": [
    {
     "name": "stdout",
     "output_type": "stream",
     "text": [
      "2022수능 수험생 이벤트 노트북  LG그램16 ['2022 수능 수험생 여러분 고생하셨습니다', '2022년  수능 수험 표  인증하시면', '그램16 구입하시는 수험생에겐  ', '', '▶ SSD  256GB 무료추가', '▶ 5만원 할인', '', '둘중 1가지 선택 해서 적용해 드립니다', '', '◆ 적용제품(제품 세부 사양은 판매상품 참조)', '     ▶ 16Z90P-GP50ML ', '          (i5  8GB  256GB)', '     ▶ 16Z90P-GP5EL   ', '          (i5 16GB  256GB)', '     ▶ 16Z90P-GP70ML', '          (i7 16GB  256GB)', '', '전제품 윈도우10정품 내장, 무상서비스1년', '', '', '']\n"
     ]
    }
   ],
   "source": [
    "title_text = data.iloc[0]['title']\n",
    "context_text = data.iloc[0]['description'].split('\\n')\n",
    "print(title_text, context_text)\n",
    "\n",
    "title = tokenizer.convert_ids_to_tokens(tokenizer(title_text)['input_ids'])\n",
    "context = [tokenizer.convert_ids_to_tokens(tokenizer(c)['input_ids']) for c in context_text]\n",
    "# print(title)\n",
    "# print(context)"
   ]
  },
  {
   "cell_type": "code",
   "execution_count": 8,
   "metadata": {},
   "outputs": [],
   "source": [
    "def cos_sim(a, b): \n",
    "    return dot(a, b)/(norm(a)*norm(b))\n",
    "\n",
    "\n",
    "def make_matrix(feats, list_data):\n",
    "    freq_list = []\n",
    "    for feat in feats:\n",
    "        freq = 0 \n",
    "        for word in list_data: \n",
    "            if feat == word: \n",
    "                freq += 1 \n",
    "        freq_list.append(freq) \n",
    "    return freq_list"
   ]
  },
  {
   "cell_type": "code",
   "execution_count": 9,
   "metadata": {},
   "outputs": [
    {
     "data": {
      "text/plain": [
       "['2022 수능 수험생 여러분 고생하셨습니다',\n",
       " '2022년  수능 수험 표  인증하시면',\n",
       " '그램16 구입하시는 수험생에겐  ',\n",
       " '',\n",
       " '▶ SSD  256GB 무료추가',\n",
       " '▶ 5만원 할인',\n",
       " '',\n",
       " '둘중 1가지 선택 해서 적용해 드립니다',\n",
       " '',\n",
       " '◆ 적용제품(제품 세부 사양은 판매상품 참조)',\n",
       " '     ▶ 16Z90P-GP50ML ',\n",
       " '          (i5  8GB  256GB)',\n",
       " '     ▶ 16Z90P-GP5EL   ',\n",
       " '          (i5 16GB  256GB)',\n",
       " '     ▶ 16Z90P-GP70ML',\n",
       " '          (i7 16GB  256GB)',\n",
       " '',\n",
       " '전제품 윈도우10정품 내장, 무상서비스1년',\n",
       " '',\n",
       " '',\n",
       " '']"
      ]
     },
     "execution_count": 9,
     "metadata": {},
     "output_type": "execute_result"
    }
   ],
   "source": [
    "context_text"
   ]
  },
  {
   "cell_type": "code",
   "execution_count": 10,
   "metadata": {},
   "outputs": [],
   "source": [
    "title = tokenizer.convert_ids_to_tokens(tokenizer(title_text)['input_ids'])\n",
    "context = [tokenizer.convert_ids_to_tokens(tokenizer(c)['input_ids']) for c in context_text]\n"
   ]
  },
  {
   "cell_type": "code",
   "execution_count": 11,
   "metadata": {},
   "outputs": [
    {
     "name": "stdout",
     "output_type": "stream",
     "text": [
      "title :  2022수능 수험생 이벤트 노트북  LG그램16\n",
      "2022 수능 수험생 여러분 고생하셨습니다 0.6454972243679028\n",
      "2022년  수능 수험 표  인증하시면 0.5773502691896258\n",
      "그램16 구입하시는 수험생에겐   0.6454972243679028\n",
      " 0.40824829046386296\n",
      "▶ SSD  256GB 무료추가 0.40824829046386296\n",
      "▶ 5만원 할인 0.40824829046386296\n",
      " 0.40824829046386296\n",
      "둘중 1가지 선택 해서 적용해 드립니다 0.40824829046386296\n",
      " 0.40824829046386296\n",
      "◆ 적용제품(제품 세부 사양은 판매상품 참조) 0.40824829046386296\n",
      "     ▶ 16Z90P-GP50ML  0.40824829046386296\n",
      "          (i5  8GB  256GB) 0.40824829046386296\n",
      "     ▶ 16Z90P-GP5EL    0.40824829046386296\n",
      "          (i5 16GB  256GB) 0.40824829046386296\n",
      "     ▶ 16Z90P-GP70ML 0.40824829046386296\n",
      "          (i7 16GB  256GB) 0.40824829046386296\n",
      " 0.40824829046386296\n",
      "전제품 윈도우10정품 내장, 무상서비스1년 0.40824829046386296\n",
      " 0.40824829046386296\n",
      " 0.40824829046386296\n",
      " 0.40824829046386296\n"
     ]
    }
   ],
   "source": [
    "title = tokenizer.convert_ids_to_tokens(tokenizer(title_text)['input_ids'])\n",
    "print('title : ', title_text)\n",
    "for origin_text in context_text:\n",
    "    context = tokenizer.convert_ids_to_tokens(tokenizer(origin_text)['input_ids'])\n",
    "    title_vector = make_matrix(title, title)\n",
    "    sim = make_matrix(title, context) \n",
    "    print(origin_text, cos_sim(title_vector, sim))\n",
    "    "
   ]
  },
  {
   "cell_type": "code",
   "execution_count": 12,
   "metadata": {},
   "outputs": [
    {
     "name": "stdout",
     "output_type": "stream",
     "text": [
      "(2500, 26357)\n",
      "<class 'pandas.core.series.Series'>\n",
      "2500\n"
     ]
    }
   ],
   "source": [
    "tfidf = TfidfVectorizer(stop_words='english')\n",
    "tfidf_matrix = tfidf.fit_transform(data['description'])\n",
    "print(tfidf_matrix.shape)\n",
    "\n",
    "cosine_sim = cosine_similarity(tfidf_matrix, tfidf_matrix)\n",
    "\n",
    "indices = pd.Series(data.index, index=list(data['description'])).drop_duplicates()\n",
    "print(type(indices))\n",
    "print(len(indices))\n"
   ]
  },
  {
   "cell_type": "code",
   "execution_count": 13,
   "metadata": {},
   "outputs": [
    {
     "data": {
      "text/plain": [
       "2022 수능 수험생 여러분 고생하셨습니다\\n2022년  수능 수험 표  인증하시면\\n그램16 구입하시는 수험생에겐  \\n\\n▶ SSD  256GB 무료추가\\n▶ 5만원 할인\\n\\n둘중 1가지 선택 해서 적용해 드립니다\\n\\n◆ 적용제품(제품 세부 사양은 판매상품 참조)\\n     ▶ 16Z90P-GP50ML \\n          (i5  8GB  256GB)\\n     ▶ 16Z90P-GP5EL   \\n          (i5 16GB  256GB)\\n     ▶ 16Z90P-GP70ML\\n          (i7 16GB  256GB)\\n\\n전제품 윈도우10정품 내장, 무상서비스1년\\n\\n\\n                                                                                                                                                                                                                                                                                                                                                                                                                                                                                                                                                                                                                                                                                                                                                   0\n",
       "M1 맥북에어 CTO 16GB 256GB 골드 풀박스\\n\\n사용을 많이 안해서 상태 좋습니다\\n\\n사진과 같이 상판 테두리에 미세한 사용감 한곳 있습니다\\n\\n무상 보증기간 2022년 3월 12일까지 남아있습니다\\n\\n배터리 100% 사이클 22 입니다\\n\\n박스와 구성품 전부 있습니다\\n\\n\\n\\n번개페이 안전결제 환영합니다\\n\\n따로 연락안주셔도 바로 신청하시면 됩니다\\n\\n\\n\\n서울 혜화, 서울 잠실, 경기도 하남 직거래 가능합니다\\n\\n가까운 지역이시고 시간만 맞는다면 직접 가져다드립니다\\n\\n죄송하지만 가격절충은 사양합니다\\n\\n오늘도 좋은하루 되세요~!                                                                                                                                                                                                                                                                                                                                                                                                                                                                                                                                                                                                                                                                                                                                                                     1\n",
       "내용은 사진참조요                                                                                                                                                                                                                                                                                                                                                                                                                                                                                                                                                                                                                                                                                                                                                                                                                                                                                                                                                                                                                                                                                           2\n",
       "★ 번개패이 이용해서 카드결제 가능합니다~~~^^\\n★ 다량 입고 되어서 저렴하게  판매 합니다~~~^^\\n★ 수량  네고 가능 합니다~~~^^\\n★ 우체국 안심소포 로 보내드립니다~~~^^\\n\\n■ LG전자 2021그램16 16Z90P-GP5EL 스펙\\n    ◆ 운영체제 : Windows 10 Pro\\n    ◆ 화면크기 16인치(40.6 cm)\\n    ◆ CPU : i5-1135G7\\n    ◆ RAM : 16GB LPDDR4x(온보드 )\\n    ◆ SSD : 256GB M.2(NVMe)(추가슬롯)\\n    ◆ 해상도 : WQXGA(2560x1600)\\n    ◆ 지문인식 / 키보드라이트\\n    ◆ Iris Xe Graphics\\n    ◆ 무게 : 1.19kg\\n    ◆ 색상 : 스노우 화이트\\n\\n■ 제품정보\\n    ◆ 윈도우10 프로 정품 내장(리커버리 기능)\\n    ◆ 최신인텔 i5-11 세대 타이거레이크 탑재 \\n    ◆ 초고속 16GB 메모리와 256GB SSD 탑재\\n    ◆ 지문인식 파워 버튼\\n    ◆ SSD 확장슬롯 가능\\n    ◆ 고용량 초고속 UFS 카드슬롯 탑재 \\n    ◆ 강력하고 빠른하나의포트 썬더볼트\\n\\n★기업 특판용(B2B) 제품 입니다\\n    (16Z90P-GA5IK  동일제품)\\n★ 미개봉 새상품 입니다\\n★ 1년 LG전자 무상서비스(구매시점)\\n★ 윈도우10 정품 설치로  바로 사용가능\\n★ LG리커버리기능 탑재로 초기화 작업 용이\\n★ 한컴오피스2020,MS오피스2019 무료설치\\n★ SSD 256GB 추가장착시 6만원(삼성,SK)\\n★ 가방 , 키스킨 , 유무선마우스 \\n    (무선마우스, 고급파우치  증정/색상렌덤)\\n\\n★ 특장점및 세부사양\\nhttps://m.smartstore.naver.com/kss1486/products/5869632997?NaPm=ct%3Dkv0elmkw%7Cci%3D811c397f37a9f9e9352e3b1383b5d4e6c90d5c14%7Ctr%3Dsls%7Csn%3D9***-****-****e8\\n\\nhttp://naver.me/F0KxOJn6\\n\\n       3\n",
       "LG A515_i5 2410m 노트북 판매합니다.\\n\\n윈도우는 새로 설치했습니다.\\n\\n다른 장치들도 정상작동 합니다.(테스트완료).\\n\\n내,외관 깨끗한 편 입니다.(생활기스있음/사진참조)\\n-------------------------------------------------------------\\ni5-2410m\\n4G\\nSSD 120G\\nGT520m\\n15.6\"\\n\\n배터리 윈도우상에 2시간 정도 갑니다.\\n\\n\\n구성품 : 노트북 + 어댑터\\n\\n\\n판매가 : 160,000원\\n-----------------------------------------------\\n문의전화 : ***-****-**** 한재경\\n서울 강서구 화곡동                                                                                                                                                                                                                                                                                                                                                                                                                                                                                                                                                                                                                                                                                                                          4\n",
       "                                                                                                                                                                                                                                                                                                                                                                                                                                                                                                                                                                                                                                                                                                                                                                                                                                                                                                                                                                                                                                                                                                 ... \n",
       "삼성노트북플렉스알파 NT750QCJ 램8기가 SSD512 15인치 판매합니다\\n\\n4월에구매해서 사무용 사용할목적으로 구매했으나 4,5번 잠깐사용하고\\n\\n사용안한 상태입니다\\n\\n제품상태는 거의 새것이라고 보면됩니다\\n\\n금액을보시면 사용한것치고 엄청싸게 내놓습니다\\n\\n노트북화면 터치도되며 접히는것 까지 가능합니다\\n\\n무선마우스 파우치 받은거까지 드립니다\\n\\n연락주시면 빠른 답변 가능합니다\\n\\n환불불가,  수원 권선동 입니다                                                                                                                                                                                                                                                                                                                                                                                                                                                                                                                                                                                                                                                                                                                                                                                                                                             2495\n",
       "사양은 사진 보시면 나옵니다.\\n2014년 것이고요.\\n\\n정품은 3년전까지 70만원이었습니다.\\n삼성노트북이고\\n싸이즈는\\n13.3인지 노트북입니다.\\n\\n모델명 사진 참조하세요.\\n\\n하드 ssd. 120기가 입니다.\\n\\n주의사항. \\n배터리방전 되서 전기 꽂고만 살 수 있어요. \\n\\n파우치도 드려요.\\n\\nㅡㅡㅡㅡㅡㅡㅡㅡ\\n아로마 수업 및 체험\\n***-****-****. 으로 연락주세요.\\n\\n밴드도 있습니다. \\n\\n'꿈이룸 아로마 숲' 밴드로 초대합니다.\\nhttps://band.us/n/aba046Kb1e9fP\\n밴드명을 검색해 가입할 수 있습니다.\\nFrom 아로마테라피스트  박민경3201082                                                                                                                                                                                                                                                                                                                                                                                                                                                                                                                                                                                                                                                                                                                                       2496\n",
       "■■번개톡확인잘안합니다 (꼭!!) 밑에번호나 카카오플러스로문의주세요^^)\\r\\n\\r\\n\\r\\n●전화OR문자상담7577-1853● \\r\\n●카카오플러스:노트북전문가 <<친추후연락●\\r\\n\\r\\n●안녕하세요  고객만족도 1위!! 노트북 전자기기 ●\\r\\n●전문 매입업체 ♡노트북전문가♡입니다!! ●\\r\\n저희는 5년동안 항상 만족스러운 최고가거래결과로 고객님과 신뢰를 얻어왔습니다 \\r\\n\\r\\n■100프로■최고가매입을도와드리겠습니다\\r\\n\\r\\n(제품상태알려주시면 정확한 단가 산출가능합니다)\\r\\n\\r\\n노트북말고도 모든 전자기기도매입을하고있으니\\r\\n부담없이연락주시기바랍니다^^\\r\\n1.저희는 업계 최초로 무료출장 서비스를 진행하고있습니다 \\r\\n제조 구성품 모델명 등 꼭알려주셔야합니다\\n2. 택배를보내시면 무료택배비지원이벤트도진행중입니다 택배비전액을 노트북전문가에서지원해드립니다착불로보내주시면됩니다^^\\r\\n다른곳가셔서 말도안되는 ☆억지☆차감당하는일이무분별하게발생하고있다고합니다 사실적인매입가를오픈하여합리적인가격으로최고가매입을진행도와드리겠습니다 추후에 비용청구 발생되지않도록 약속드리고자합니다\\r\\n●기스감가같은말도안되는감가없습니다●\\r\\n\\r\\n                                                                                                                                                                                                                                                                                                                                                                                                                                                                                   2497\n",
       "Acer Aspire S7-391-533314G12aws 입니다.\\n터치 디스플레이이며 180도까지 펼쳐지는 i5제품입니다.\\n전원이 켜지지 않아서 A/S보내니 전원부 메인보드 고장이라고 하여 그냥 판매합니다.\\n액정 및 쿨러 어댑터 등 그대로입니다.\\n액정은 사자마자 필름붙여놔서 S급 입니다.\\n다만 SSD는 제외이고 배터리는 있으나 방전입니다.\\n혹여 SSD원하시면 +4만에 드리겠습니다. 이메이션 128기가 msata 입니다.\\n2013년 출시된 제품으로 당시 200만원에 가까운 울트라북 제품이었습니다. 애지중지하게 다루다가 판매합니다.\\n창원 직거래 가능하며 직거래시 택배비 빼드립니다.\\n중고거래이니 반품 및 환불은 받지않겠습니다.                                                                                                                                                                                                                                                                                                                                                                                                                                                                                                                                                                                                                                                                                                                         2498\n",
       "에이서 아스파이어 S7-391 울트라북 배터리입니다.\\n리뷰좋은 KingSener 에서 구매한 새제품입니다.\\n노트북 수리맡긴 후 사용하려고 구매해서 한달만에 받았는데\\n그 사이에 노트북을 구매하게 되어 내놓습니다.\\n새제품이고 정상작동 확인했습니다. 창원 성주동에서 직거래 및 택배 가능 합니다.                                                                                                                                                                                                                                                                                                                                                                                                                                                                                                                                                                                                                                                                                                                                                                                                                                                                                                                           2499\n",
       "Length: 2500, dtype: int64"
      ]
     },
     "execution_count": 13,
     "metadata": {},
     "output_type": "execute_result"
    }
   ],
   "source": [
    "indices"
   ]
  },
  {
   "cell_type": "code",
   "execution_count": 14,
   "metadata": {},
   "outputs": [],
   "source": [
    "def get_recommendations(title, cosine_sim=cosine_sim):\n",
    "    # 선택한 영화의 타이틀로부터 해당되는 인덱스를 받아옵니다. 이제 선택한 영화를 가지고 연산할 수 있습니다.\n",
    "    idx = indices[title]\n",
    "\n",
    "    # 모든 영화에 대해서 해당 영화와의 유사도를 구합니다.\n",
    "    sim_scores = list(enumerate(cosine_sim[idx]))\n",
    "\n",
    "    # 유사도에 따라 영화들을 정렬합니다.\n",
    "    sim_scores = sorted(sim_scores, key=lambda x: x[1], reverse=True)\n",
    "\n",
    "    # 가장 유사한 10개의 영화를 받아옵니다.\n",
    "    sim_scores = sim_scores[1:11]\n",
    "\n",
    "    # 가장 유사한 10개의 영화의 인덱스를 받아옵니다.\n",
    "    movie_indices = [i[0] for i in sim_scores]\n",
    "\n",
    "    # 가장 유사한 10개의 영화의 제목을 리턴합니다.\n",
    "    return data['title'].iloc[movie_indices]"
   ]
  },
  {
   "cell_type": "code",
   "execution_count": 15,
   "metadata": {},
   "outputs": [
    {
     "ename": "KeyError",
     "evalue": "'이사문제로 급처합니다.\\n\\n생활기스 외 상태 양호합니다.\\nskt 3g로 개통해서 사용 가능합니다.\\n\\n거래 후 반품, 환불 X'",
     "output_type": "error",
     "traceback": [
      "\u001b[0;31m---------------------------------------------------------------------------\u001b[0m",
      "\u001b[0;31mKeyError\u001b[0m                                  Traceback (most recent call last)",
      "\u001b[0;32m/usr/local/lib/python3.9/site-packages/pandas/core/indexes/base.py\u001b[0m in \u001b[0;36mget_loc\u001b[0;34m(self, key, method, tolerance)\u001b[0m\n\u001b[1;32m   3360\u001b[0m             \u001b[0;32mtry\u001b[0m\u001b[0;34m:\u001b[0m\u001b[0;34m\u001b[0m\u001b[0;34m\u001b[0m\u001b[0m\n\u001b[0;32m-> 3361\u001b[0;31m                 \u001b[0;32mreturn\u001b[0m \u001b[0mself\u001b[0m\u001b[0;34m.\u001b[0m\u001b[0m_engine\u001b[0m\u001b[0;34m.\u001b[0m\u001b[0mget_loc\u001b[0m\u001b[0;34m(\u001b[0m\u001b[0mcasted_key\u001b[0m\u001b[0;34m)\u001b[0m\u001b[0;34m\u001b[0m\u001b[0;34m\u001b[0m\u001b[0m\n\u001b[0m\u001b[1;32m   3362\u001b[0m             \u001b[0;32mexcept\u001b[0m \u001b[0mKeyError\u001b[0m \u001b[0;32mas\u001b[0m \u001b[0merr\u001b[0m\u001b[0;34m:\u001b[0m\u001b[0;34m\u001b[0m\u001b[0;34m\u001b[0m\u001b[0m\n",
      "\u001b[0;32m/usr/local/lib/python3.9/site-packages/pandas/_libs/index.pyx\u001b[0m in \u001b[0;36mpandas._libs.index.IndexEngine.get_loc\u001b[0;34m()\u001b[0m\n",
      "\u001b[0;32m/usr/local/lib/python3.9/site-packages/pandas/_libs/index.pyx\u001b[0m in \u001b[0;36mpandas._libs.index.IndexEngine.get_loc\u001b[0;34m()\u001b[0m\n",
      "\u001b[0;32m/usr/local/lib/python3.9/site-packages/pandas/_libs/index.pyx\u001b[0m in \u001b[0;36mpandas._libs.index.IndexEngine._get_loc_duplicates\u001b[0;34m()\u001b[0m\n",
      "\u001b[0;32m/usr/local/lib/python3.9/site-packages/pandas/_libs/index.pyx\u001b[0m in \u001b[0;36mpandas._libs.index.IndexEngine._maybe_get_bool_indexer\u001b[0;34m()\u001b[0m\n",
      "\u001b[0;32m/usr/local/lib/python3.9/site-packages/pandas/_libs/index.pyx\u001b[0m in \u001b[0;36mpandas._libs.index.IndexEngine._unpack_bool_indexer\u001b[0;34m()\u001b[0m\n",
      "\u001b[0;31mKeyError\u001b[0m: '이사문제로 급처합니다.\\n\\n생활기스 외 상태 양호합니다.\\nskt 3g로 개통해서 사용 가능합니다.\\n\\n거래 후 반품, 환불 X'",
      "\nThe above exception was the direct cause of the following exception:\n",
      "\u001b[0;31mKeyError\u001b[0m                                  Traceback (most recent call last)",
      "\u001b[0;32m/var/folders/y3/sz_1yg3n37d6bch8mrb4dnv80000gn/T/ipykernel_12039/2844099717.py\u001b[0m in \u001b[0;36m<module>\u001b[0;34m\u001b[0m\n\u001b[0;32m----> 1\u001b[0;31m \u001b[0mget_recommendations\u001b[0m\u001b[0;34m(\u001b[0m\u001b[0;34m'이사문제로 급처합니다.\\n\\n생활기스 외 상태 양호합니다.\\nskt 3g로 개통해서 사용 가능합니다.\\n\\n거래 후 반품, 환불 X'\u001b[0m\u001b[0;34m)\u001b[0m\u001b[0;34m\u001b[0m\u001b[0;34m\u001b[0m\u001b[0m\n\u001b[0m",
      "\u001b[0;32m/var/folders/y3/sz_1yg3n37d6bch8mrb4dnv80000gn/T/ipykernel_12039/3761779771.py\u001b[0m in \u001b[0;36mget_recommendations\u001b[0;34m(title, cosine_sim)\u001b[0m\n\u001b[1;32m      1\u001b[0m \u001b[0;32mdef\u001b[0m \u001b[0mget_recommendations\u001b[0m\u001b[0;34m(\u001b[0m\u001b[0mtitle\u001b[0m\u001b[0;34m,\u001b[0m \u001b[0mcosine_sim\u001b[0m\u001b[0;34m=\u001b[0m\u001b[0mcosine_sim\u001b[0m\u001b[0;34m)\u001b[0m\u001b[0;34m:\u001b[0m\u001b[0;34m\u001b[0m\u001b[0;34m\u001b[0m\u001b[0m\n\u001b[1;32m      2\u001b[0m     \u001b[0;31m# 선택한 영화의 타이틀로부터 해당되는 인덱스를 받아옵니다. 이제 선택한 영화를 가지고 연산할 수 있습니다.\u001b[0m\u001b[0;34m\u001b[0m\u001b[0;34m\u001b[0m\u001b[0;34m\u001b[0m\u001b[0m\n\u001b[0;32m----> 3\u001b[0;31m     \u001b[0midx\u001b[0m \u001b[0;34m=\u001b[0m \u001b[0mindices\u001b[0m\u001b[0;34m[\u001b[0m\u001b[0mtitle\u001b[0m\u001b[0;34m]\u001b[0m\u001b[0;34m\u001b[0m\u001b[0;34m\u001b[0m\u001b[0m\n\u001b[0m\u001b[1;32m      4\u001b[0m \u001b[0;34m\u001b[0m\u001b[0m\n\u001b[1;32m      5\u001b[0m     \u001b[0;31m# 모든 영화에 대해서 해당 영화와의 유사도를 구합니다.\u001b[0m\u001b[0;34m\u001b[0m\u001b[0;34m\u001b[0m\u001b[0;34m\u001b[0m\u001b[0m\n",
      "\u001b[0;32m/usr/local/lib/python3.9/site-packages/pandas/core/series.py\u001b[0m in \u001b[0;36m__getitem__\u001b[0;34m(self, key)\u001b[0m\n\u001b[1;32m    940\u001b[0m \u001b[0;34m\u001b[0m\u001b[0m\n\u001b[1;32m    941\u001b[0m         \u001b[0;32melif\u001b[0m \u001b[0mkey_is_scalar\u001b[0m\u001b[0;34m:\u001b[0m\u001b[0;34m\u001b[0m\u001b[0;34m\u001b[0m\u001b[0m\n\u001b[0;32m--> 942\u001b[0;31m             \u001b[0;32mreturn\u001b[0m \u001b[0mself\u001b[0m\u001b[0;34m.\u001b[0m\u001b[0m_get_value\u001b[0m\u001b[0;34m(\u001b[0m\u001b[0mkey\u001b[0m\u001b[0;34m)\u001b[0m\u001b[0;34m\u001b[0m\u001b[0;34m\u001b[0m\u001b[0m\n\u001b[0m\u001b[1;32m    943\u001b[0m \u001b[0;34m\u001b[0m\u001b[0m\n\u001b[1;32m    944\u001b[0m         \u001b[0;32mif\u001b[0m \u001b[0mis_hashable\u001b[0m\u001b[0;34m(\u001b[0m\u001b[0mkey\u001b[0m\u001b[0;34m)\u001b[0m\u001b[0;34m:\u001b[0m\u001b[0;34m\u001b[0m\u001b[0;34m\u001b[0m\u001b[0m\n",
      "\u001b[0;32m/usr/local/lib/python3.9/site-packages/pandas/core/series.py\u001b[0m in \u001b[0;36m_get_value\u001b[0;34m(self, label, takeable)\u001b[0m\n\u001b[1;32m   1049\u001b[0m \u001b[0;34m\u001b[0m\u001b[0m\n\u001b[1;32m   1050\u001b[0m         \u001b[0;31m# Similar to Index.get_value, but we do not fall back to positional\u001b[0m\u001b[0;34m\u001b[0m\u001b[0;34m\u001b[0m\u001b[0;34m\u001b[0m\u001b[0m\n\u001b[0;32m-> 1051\u001b[0;31m         \u001b[0mloc\u001b[0m \u001b[0;34m=\u001b[0m \u001b[0mself\u001b[0m\u001b[0;34m.\u001b[0m\u001b[0mindex\u001b[0m\u001b[0;34m.\u001b[0m\u001b[0mget_loc\u001b[0m\u001b[0;34m(\u001b[0m\u001b[0mlabel\u001b[0m\u001b[0;34m)\u001b[0m\u001b[0;34m\u001b[0m\u001b[0;34m\u001b[0m\u001b[0m\n\u001b[0m\u001b[1;32m   1052\u001b[0m         \u001b[0;32mreturn\u001b[0m \u001b[0mself\u001b[0m\u001b[0;34m.\u001b[0m\u001b[0mindex\u001b[0m\u001b[0;34m.\u001b[0m\u001b[0m_get_values_for_loc\u001b[0m\u001b[0;34m(\u001b[0m\u001b[0mself\u001b[0m\u001b[0;34m,\u001b[0m \u001b[0mloc\u001b[0m\u001b[0;34m,\u001b[0m \u001b[0mlabel\u001b[0m\u001b[0;34m)\u001b[0m\u001b[0;34m\u001b[0m\u001b[0;34m\u001b[0m\u001b[0m\n\u001b[1;32m   1053\u001b[0m \u001b[0;34m\u001b[0m\u001b[0m\n",
      "\u001b[0;32m/usr/local/lib/python3.9/site-packages/pandas/core/indexes/base.py\u001b[0m in \u001b[0;36mget_loc\u001b[0;34m(self, key, method, tolerance)\u001b[0m\n\u001b[1;32m   3361\u001b[0m                 \u001b[0;32mreturn\u001b[0m \u001b[0mself\u001b[0m\u001b[0;34m.\u001b[0m\u001b[0m_engine\u001b[0m\u001b[0;34m.\u001b[0m\u001b[0mget_loc\u001b[0m\u001b[0;34m(\u001b[0m\u001b[0mcasted_key\u001b[0m\u001b[0;34m)\u001b[0m\u001b[0;34m\u001b[0m\u001b[0;34m\u001b[0m\u001b[0m\n\u001b[1;32m   3362\u001b[0m             \u001b[0;32mexcept\u001b[0m \u001b[0mKeyError\u001b[0m \u001b[0;32mas\u001b[0m \u001b[0merr\u001b[0m\u001b[0;34m:\u001b[0m\u001b[0;34m\u001b[0m\u001b[0;34m\u001b[0m\u001b[0m\n\u001b[0;32m-> 3363\u001b[0;31m                 \u001b[0;32mraise\u001b[0m \u001b[0mKeyError\u001b[0m\u001b[0;34m(\u001b[0m\u001b[0mkey\u001b[0m\u001b[0;34m)\u001b[0m \u001b[0;32mfrom\u001b[0m \u001b[0merr\u001b[0m\u001b[0;34m\u001b[0m\u001b[0;34m\u001b[0m\u001b[0m\n\u001b[0m\u001b[1;32m   3364\u001b[0m \u001b[0;34m\u001b[0m\u001b[0m\n\u001b[1;32m   3365\u001b[0m         \u001b[0;32mif\u001b[0m \u001b[0mis_scalar\u001b[0m\u001b[0;34m(\u001b[0m\u001b[0mkey\u001b[0m\u001b[0;34m)\u001b[0m \u001b[0;32mand\u001b[0m \u001b[0misna\u001b[0m\u001b[0;34m(\u001b[0m\u001b[0mkey\u001b[0m\u001b[0;34m)\u001b[0m \u001b[0;32mand\u001b[0m \u001b[0;32mnot\u001b[0m \u001b[0mself\u001b[0m\u001b[0;34m.\u001b[0m\u001b[0mhasnans\u001b[0m\u001b[0;34m:\u001b[0m\u001b[0;34m\u001b[0m\u001b[0;34m\u001b[0m\u001b[0m\n",
      "\u001b[0;31mKeyError\u001b[0m: '이사문제로 급처합니다.\\n\\n생활기스 외 상태 양호합니다.\\nskt 3g로 개통해서 사용 가능합니다.\\n\\n거래 후 반품, 환불 X'"
     ]
    }
   ],
   "source": [
    "get_recommendations('이사문제로 급처합니다.\\n\\n생활기스 외 상태 양호합니다.\\nskt 3g로 개통해서 사용 가능합니다.\\n\\n거래 후 반품, 환불 X')"
   ]
  },
  {
   "cell_type": "code",
   "execution_count": null,
   "metadata": {},
   "outputs": [],
   "source": []
  },
  {
   "cell_type": "code",
   "execution_count": null,
   "metadata": {},
   "outputs": [],
   "source": []
  },
  {
   "cell_type": "code",
   "execution_count": null,
   "metadata": {},
   "outputs": [],
   "source": []
  },
  {
   "cell_type": "code",
   "execution_count": null,
   "metadata": {},
   "outputs": [],
   "source": []
  },
  {
   "cell_type": "code",
   "execution_count": null,
   "metadata": {},
   "outputs": [],
   "source": []
  },
  {
   "cell_type": "code",
   "execution_count": null,
   "metadata": {},
   "outputs": [],
   "source": []
  },
  {
   "cell_type": "code",
   "execution_count": null,
   "metadata": {},
   "outputs": [],
   "source": []
  },
  {
   "cell_type": "code",
   "execution_count": null,
   "metadata": {},
   "outputs": [],
   "source": [
    "context_preprocessing = []\n",
    "for text in context:\n",
    "    text.replace('\\n', '')\n",
    "    print(\"###########\")\n",
    "    print(text)"
   ]
  },
  {
   "cell_type": "code",
   "execution_count": null,
   "metadata": {},
   "outputs": [],
   "source": [
    "hashtag"
   ]
  },
  {
   "cell_type": "code",
   "execution_count": null,
   "metadata": {},
   "outputs": [],
   "source": []
  }
 ],
 "metadata": {
  "interpreter": {
   "hash": "d4d1e4263499bec80672ea0156c357c1ee493ec2b1c70f0acce89fc37c4a6abe"
  },
  "kernelspec": {
   "display_name": "Python 3.8.5 64-bit ('base': conda)",
   "language": "python",
   "name": "python3"
  },
  "language_info": {
   "codemirror_mode": {
    "name": "ipython",
    "version": 3
   },
   "file_extension": ".py",
   "mimetype": "text/x-python",
   "name": "python",
   "nbconvert_exporter": "python",
   "pygments_lexer": "ipython3",
   "version": "3.9.6"
  },
  "orig_nbformat": 4
 },
 "nbformat": 4,
 "nbformat_minor": 2
}
