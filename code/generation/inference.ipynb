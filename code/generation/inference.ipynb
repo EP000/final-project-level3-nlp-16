{
 "cells": [
  {
   "cell_type": "code",
   "execution_count": 2,
   "metadata": {},
   "outputs": [],
   "source": [
    "import pandas as pd\n",
    "import re\n",
    "from transformers import AutoTokenizer, GPT2LMHeadModel"
   ]
  },
  {
   "cell_type": "code",
   "execution_count": null,
   "metadata": {},
   "outputs": [],
   "source": [
    "INFER_MODEL_PATH = \"./output\"\n",
    "BASE_MODEL = \"skt/kogpt2-base-v2\""
   ]
  },
  {
   "cell_type": "code",
   "execution_count": null,
   "metadata": {},
   "outputs": [],
   "source": [
    "infer_tokenizer = AutoTokenizer.from_pretrained(\n",
    "    BASE_MODEL,\n",
    "    max_len = 512,\n",
    "    padding = \"max_length\",\n",
    "    add_special_tokens = True,\n",
    "    return_tensors = \"pt\",\n",
    "    truncation = True,\n",
    "    bos_token = \"<s>\",\n",
    "    eos_token = \"</s>\",\n",
    "    unk_token = \"<unk>\",\n",
    "    pad_token = \"<pad>\",\n",
    "    mask_token = \"<mask>\",\n",
    "    sep_token = \"<sep>\"\n",
    ")"
   ]
  },
  {
   "cell_type": "code",
   "execution_count": null,
   "metadata": {},
   "outputs": [],
   "source": [
    "infer_model = GPT2LMHeadModel.from_pretrained(INFER_MODEL_PATH)\n",
    "infer_model.eval()"
   ]
  },
  {
   "cell_type": "code",
   "execution_count": 5,
   "metadata": {},
   "outputs": [],
   "source": [
    "data = pd.read_csv(\"../../data/raw_csv_data/600100001_data.csv\")\n",
    "title = data[\"title\"][18]\n",
    "description = data[\"description\"][18]\n",
    "title = re.sub(r\"[^\\w\\s]\", \"\", title)\n",
    "description = description.replace(\"\\n\", \" \")\n",
    "description = description.replace(\"\\r\", \" \")\n",
    "description = re.sub(r\"[^\\w\\s]\", \"\", description)\n",
    "text = \"<s>\" + title + \"<sep>\" + description "
   ]
  },
  {
   "cell_type": "code",
   "execution_count": null,
   "metadata": {},
   "outputs": [],
   "source": [
    "input_ids = infer_tokenizer.encode(\n",
    "    text,\n",
    "    add_special_tokens = True,\n",
    "    return_tensors=\"pt\"\n",
    ")\n",
    "\n",
    "output_sequence = infer_model.generate(\n",
    "    input_ids = input_ids,\n",
    "    do_sample=True,\n",
    "    max_length = 512,\n",
    "    num_return_sequences = 10,\n",
    "    top_p=0.95,\n",
    "    top_k=5\n",
    ")\n",
    "\n",
    "decode_output = infer_tokenizer.decode(output_sequence[0], skip_special_tokens=True)\n",
    "decode_output = decode_output[len(text)+1:]\n",
    "decode_output = decode_output.split()\n",
    "decode_output = list(set(decode_output))\n",
    "print(decode_output)"
   ]
  },
  {
   "cell_type": "code",
   "execution_count": null,
   "metadata": {},
   "outputs": [],
   "source": [
    "print(text)"
   ]
  }
 ],
 "metadata": {
  "interpreter": {
   "hash": "e31c68abf1d5dd3f9e2269f23eadf1b199587e56c0618a30760176a65ebfcab4"
  },
  "kernelspec": {
   "display_name": "Python 3.7.11 64-bit ('lightweight': conda)",
   "language": "python",
   "name": "python3"
  },
  "language_info": {
   "codemirror_mode": {
    "name": "ipython",
    "version": 3
   },
   "file_extension": ".py",
   "mimetype": "text/x-python",
   "name": "python",
   "nbconvert_exporter": "python",
   "pygments_lexer": "ipython3",
   "version": "3.7.11"
  },
  "orig_nbformat": 4
 },
 "nbformat": 4,
 "nbformat_minor": 2
}
