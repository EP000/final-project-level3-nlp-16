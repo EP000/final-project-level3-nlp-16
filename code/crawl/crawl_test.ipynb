{
 "cells": [
  {
   "cell_type": "code",
   "execution_count": 1,
   "metadata": {},
   "outputs": [],
   "source": [
    "from bunjang_crawl import make_csv_from_bunjang"
   ]
  },
  {
   "cell_type": "code",
   "execution_count": 2,
   "metadata": {},
   "outputs": [],
   "source": [
    "categories = [600100001]\n",
    "# , 600100005, 600100006, 600100007, 600300001, 600300003, 600400001, \n",
    "# 600400002, 600400004, 600500006, 600500010, 600700001, 600700002, 600700004, 600700005"
   ]
  },
  {
   "cell_type": "code",
   "execution_count": 3,
   "metadata": {},
   "outputs": [
    {
     "name": "stderr",
     "output_type": "stream",
     "text": [
      "100%|██████████| 110/110 [14:41<00:00,  8.02s/it]\n",
      "100%|██████████| 110/110 [14:12<00:00,  7.75s/it]\n",
      "100%|██████████| 110/110 [14:09<00:00,  7.72s/it]\n",
      "100%|██████████| 110/110 [07:22<00:00,  4.03s/it]\n",
      "100%|██████████| 110/110 [06:17<00:00,  3.43s/it]\n",
      "100%|██████████| 110/110 [09:19<00:00,  5.08s/it]\n",
      "100%|██████████| 110/110 [07:12<00:00,  3.93s/it]\n",
      "100%|██████████| 110/110 [14:11<00:00,  7.74s/it]\n",
      "100%|██████████| 110/110 [02:04<00:00,  1.13s/it]\n",
      "100%|██████████| 110/110 [14:07<00:00,  7.70s/it]\n",
      "100%|██████████| 110/110 [14:40<00:00,  8.00s/it]\n",
      "100%|██████████| 110/110 [13:51<00:00,  7.56s/it]\n",
      "100%|██████████| 110/110 [05:33<00:00,  3.03s/it]\n",
      "100%|██████████| 110/110 [21:38<00:00, 11.81s/it]\n",
      "100%|██████████| 110/110 [23:20<00:00, 12.73s/it]\n"
     ]
    }
   ],
   "source": [
    "make_csv_from_bunjang(\"/Users/jhyun/Downloads/hashtag/csv_data\",categories, 10000)"
   ]
  },
  {
   "cell_type": "code",
   "execution_count": 13,
   "metadata": {},
   "outputs": [
    {
     "data": {
      "text/plain": [
       "110"
      ]
     },
     "execution_count": 13,
     "metadata": {},
     "output_type": "execute_result"
    }
   ],
   "source": []
  },
  {
   "cell_type": "code",
   "execution_count": null,
   "metadata": {},
   "outputs": [],
   "source": []
  }
 ],
 "metadata": {
  "interpreter": {
   "hash": "949777d72b0d2535278d3dc13498b2535136f6dfe0678499012e853ee9abcab1"
  },
  "kernelspec": {
   "display_name": "Python 3.9.6 64-bit",
   "language": "python",
   "name": "python3"
  },
  "language_info": {
   "codemirror_mode": {
    "name": "ipython",
    "version": 3
   },
   "file_extension": ".py",
   "mimetype": "text/x-python",
   "name": "python",
   "nbconvert_exporter": "python",
   "pygments_lexer": "ipython3",
   "version": "3.9.6"
  },
  "orig_nbformat": 4
 },
 "nbformat": 4,
 "nbformat_minor": 2
}
