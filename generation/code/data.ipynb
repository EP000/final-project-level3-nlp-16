{
 "cells": [
  {
   "cell_type": "code",
   "execution_count": 1,
   "metadata": {},
   "outputs": [],
   "source": [
    "import pandas as pd\n",
    "import os\n",
    "import random\n",
    "from tqdm import tqdm\n",
    "from pprint import pprint\n",
    "from sklearn.feature_extraction.text import HashingVectorizer\n",
    "from sklearn.metrics.pairwise import linear_kernel\n",
    "\n",
    "from sklearn.feature_extraction.text import TfidfVectorizer\n",
    "from sklearn.metrics.pairwise import cosine_similarity\n",
    "\n",
    "from numpy import dot \n",
    "from numpy.linalg import norm\n",
    "\n",
    "from transformers import AutoTokenizer"
   ]
  },
  {
   "cell_type": "code",
   "execution_count": 14,
   "metadata": {},
   "outputs": [
    {
     "name": "stdout",
     "output_type": "stream",
     "text": [
      "['이어폰_data.csv', '노트북_data.csv', '모니터_data.csv', '데스크탑_data.csv', '대형가전_data.csv', '필름카메라_data.csv', '웨어러블_data.csv', 'dslr_data.csv', '스피커_data.csv', '일반폰_data.csv', 'tv_data.csv', '사무기기_data.csv', '키보드마우스_data.csv', '스마트폰_data.csv', '테블릿_data.csv'] 15 37500\n"
     ]
    }
   ],
   "source": [
    "file_list = os.listdir('./data')\n",
    "print(file_list, len(file_list), 2500*len(file_list))"
   ]
  },
  {
   "cell_type": "code",
   "execution_count": 15,
   "metadata": {},
   "outputs": [
    {
     "name": "stdout",
     "output_type": "stream",
     "text": [
      "2500\n",
      "5000\n",
      "7500\n",
      "10000\n",
      "12500\n",
      "15000\n",
      "17500\n",
      "20000\n",
      "22500\n",
      "24886\n",
      "27386\n",
      "28315\n",
      "30815\n",
      "33315\n",
      "35815\n"
     ]
    }
   ],
   "source": [
    "data = pd.DataFrame()\n",
    "data_len = 0\n",
    "for file in file_list:\n",
    "    d = pd.read_csv('./data/' + file, lineterminator='\\n')\n",
    "    d['category'] = file.split('_')[0]\n",
    "    data_len += len(d)\n",
    "    print(data_len)\n",
    "    data = pd.concat([data, d])"
   ]
  },
  {
   "cell_type": "code",
   "execution_count": 16,
   "metadata": {},
   "outputs": [
    {
     "data": {
      "text/plain": [
       "(35815,\n",
       " Index(['Unnamed: 0', 'title', 'tag', 'location', 'description', 'img',\n",
       "        'image_count', 'pid', 'url', 'category'],\n",
       "       dtype='object'))"
      ]
     },
     "execution_count": 16,
     "metadata": {},
     "output_type": "execute_result"
    }
   ],
   "source": [
    "len(data), data.columns"
   ]
  },
  {
   "cell_type": "code",
   "execution_count": 20,
   "metadata": {},
   "outputs": [],
   "source": [
    "MODEL_NAME = 'klue/bert-base'\n",
    "tokenizer = AutoTokenizer.from_pretrained(MODEL_NAME)"
   ]
  },
  {
   "cell_type": "code",
   "execution_count": 21,
   "metadata": {},
   "outputs": [],
   "source": [
    "def cos_sim(a, b): \n",
    "    return dot(a, b)/(norm(a)*norm(b))\n",
    "\n",
    "\n",
    "def make_matrix(feats, list_data):\n",
    "    freq_list = []\n",
    "    for feat in feats:\n",
    "        freq = 0 \n",
    "        for word in list_data: \n",
    "            if feat == word: \n",
    "                freq += 1 \n",
    "        freq_list.append(freq) \n",
    "    return freq_list"
   ]
  },
  {
   "cell_type": "code",
   "execution_count": 22,
   "metadata": {},
   "outputs": [
    {
     "name": "stderr",
     "output_type": "stream",
     "text": [
      "  0%|          | 0/35815 [00:00<?, ?it/s]<ipython-input-21-c7179cb779ae>:2: RuntimeWarning: invalid value encountered in true_divide\n",
      "  return dot(a, b)/(norm(a)*norm(b))\n",
      " 78%|███████▊  | 27884/35815 [02:31<00:45, 173.87it/s]Token indices sequence length is longer than the specified maximum sequence length for this model (934 > 512). Running this sequence through the model will result in indexing errors\n",
      "100%|██████████| 35815/35815 [03:24<00:00, 174.99it/s]\n"
     ]
    }
   ],
   "source": [
    "df_output = pd.DataFrame(columns=['index', 'title', 'context', 'hashtag', 'category'])\n",
    "\n",
    "for i in tqdm(range(len(data))):\n",
    "    row = data.iloc[i]\n",
    "    title_text = row['title']\n",
    "    context_text = [d for d in row['description'].split('\\n') if len(d) > 2]\n",
    "    \n",
    "    # print('title : ', title_text) \n",
    "    # print('hashtag : ', row['tag'])\n",
    "    # print()\n",
    "    \n",
    "    result_context = ''\n",
    "    title = tokenizer.convert_ids_to_tokens(tokenizer(title_text)['input_ids'])[1:-1]\n",
    "    for origin_text in context_text:\n",
    "        context = tokenizer.convert_ids_to_tokens(tokenizer(origin_text)['input_ids'])[1:-1]\n",
    "        \n",
    "        title_vector = make_matrix(title, title)\n",
    "        # print(len(title), len(context))\n",
    "        # print(title)\n",
    "        # print(context)\n",
    "        sim = make_matrix(title, context) \n",
    "        # print(title_vector)\n",
    "        similarity = cos_sim(title_vector, sim)\n",
    "        # print(origin_text, '\\t', similarity)\n",
    "\n",
    "        if similarity > 0.3:\n",
    "            result_context += origin_text\n",
    "    \n",
    "    if result_context:    \n",
    "        df_output = df_output.append(pd.DataFrame([[ i, title_text, result_context, row['tag'], row['category'] ]],\n",
    "                                        columns=['index', 'title', 'context', 'hashtag', 'category']),\n",
    "                                        ignore_index=True)\n",
    "        \n",
    "    # print()\n",
    "    # print('=============================')\n",
    "    # print()\n",
    "    "
   ]
  },
  {
   "cell_type": "code",
   "execution_count": 24,
   "metadata": {},
   "outputs": [
    {
     "data": {
      "text/plain": [
       "28909"
      ]
     },
     "execution_count": 24,
     "metadata": {},
     "output_type": "execute_result"
    }
   ],
   "source": [
    "len(df_output)"
   ]
  },
  {
   "cell_type": "code",
   "execution_count": 23,
   "metadata": {},
   "outputs": [],
   "source": [
    "df_output.to_csv('./all_data.csv')"
   ]
  }
 ],
 "metadata": {
  "interpreter": {
   "hash": "d4d1e4263499bec80672ea0156c357c1ee493ec2b1c70f0acce89fc37c4a6abe"
  },
  "kernelspec": {
   "display_name": "Python 3.8.5 64-bit ('base': conda)",
   "language": "python",
   "name": "python3"
  },
  "language_info": {
   "codemirror_mode": {
    "name": "ipython",
    "version": 3
   },
   "file_extension": ".py",
   "mimetype": "text/x-python",
   "name": "python",
   "nbconvert_exporter": "python",
   "pygments_lexer": "ipython3",
   "version": "3.8.5"
  },
  "orig_nbformat": 4
 },
 "nbformat": 4,
 "nbformat_minor": 2
}
